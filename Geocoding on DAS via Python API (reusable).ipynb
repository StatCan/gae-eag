{
 "cells": [
  {
   "cell_type": "markdown",
   "id": "139ac1bd",
   "metadata": {},
   "source": [
    "# Geocoding on DAS"
   ]
  },
  {
   "cell_type": "markdown",
   "id": "aa5900d3",
   "metadata": {},
   "source": [
    "### Prep"
   ]
  },
  {
   "cell_type": "code",
   "execution_count": null,
   "id": "72e72770",
   "metadata": {},
   "outputs": [],
   "source": [
    "import arcgis\n",
    "from arcgis.gis import GIS\n",
    "from arcgis.geocoding import geocode\n",
    "\n",
    "#For batch geocoding:\n",
    "from arcgis.geocoding import batch_geocode\n",
    "import pandas as pd"
   ]
  },
  {
   "cell_type": "markdown",
   "id": "20cc129c",
   "metadata": {},
   "source": [
    "### Authenticate "
   ]
  },
  {
   "cell_type": "code",
   "execution_count": null,
   "id": "be552bb7",
   "metadata": {},
   "outputs": [],
   "source": [
    "#Replace client_id: https://statcan.github.io/gae-eag/english/portal/#arcgis-enterprise-via-api\n",
    "\n",
    "gis = GIS(\"https://geoanalytics.cloud.statcan.ca/portal\", client_id='#########', verify=True)\n",
    "print(\"Logged in as: \" + gis.properties.user.username)"
   ]
  },
  {
   "cell_type": "markdown",
   "id": "1c1ff43d",
   "metadata": {},
   "source": [
    "### Single Address"
   ]
  },
  {
   "cell_type": "code",
   "execution_count": null,
   "id": "1a361551",
   "metadata": {},
   "outputs": [],
   "source": [
    "#Sinlge Address:\n",
    "address = \"150 Tunney's Pasture Driveway, Ottawa, ON K1A 0T6\"\n",
    "results =geocode(address)\n",
    "print(results[0]['location'])"
   ]
  },
  {
   "cell_type": "markdown",
   "id": "862da79c",
   "metadata": {},
   "source": [
    "### Multiple Addresses"
   ]
  },
  {
   "cell_type": "code",
   "execution_count": null,
   "id": "de943148",
   "metadata": {},
   "outputs": [],
   "source": [
    "#Multiple Address:\n",
    "addresses = [\"150 Tunney's Pasture Driveway, Ottawa, Ontario, K1A 0T6\", \n",
    "             \"1770 Market Street, HALIFAX, Nova Scotia, B3J 3M3\", \n",
    "             \"200 René Lévesque Blvd. W., Guy Favreau Complex, 4th Floor, East Tower, MONTRÉAL, Quebec, H2Z 1X4\", \n",
    "             \"25 St. Clair Avenue East, TORONTO, Ontario, M4T 1M4\",\n",
    "             \"Park Square, 9th Floor, 10001 Bellamy Hill, EDMONTON, Alberta, T5J 3B6\",\n",
    "             \"Library Square Office Tower, 600-300 West Georgia Street, VANCOUVER, British Columbia, V6B 6C7\"\n",
    "            ]\n",
    "\n",
    "for address in addresses:\n",
    "    results = geocode(address)\n",
    "    print(results[0]['location'])"
   ]
  },
  {
   "cell_type": "markdown",
   "id": "4e7f5e14",
   "metadata": {},
   "source": [
    "### Batch from CSV "
   ]
  },
  {
   "cell_type": "markdown",
   "id": "8c7ffa8b",
   "metadata": {},
   "source": [
    "#### Geocode by creating a new CSV, leaving source data untouched:"
   ]
  },
  {
   "cell_type": "code",
   "execution_count": null,
   "id": "d30f58c2",
   "metadata": {},
   "outputs": [],
   "source": [
    "# Read in the CSV file as a pandas DataFrame, REPLACE <PATH TO SOURCE> (csv must not be locked/in use)\n",
    "df = pd.read_csv(\"<PATH TO SOURCE CSV>\")\n",
    "\n",
    "# Create a list of dictionaries with address fields\n",
    "addresses = df.to_dict(\"records\")\n",
    "\n",
    "# Batch geocode the list of addresses\n",
    "results = batch_geocode(addresses)\n",
    "\n",
    "# Create a list of dictionaries with x and y coordinates\n",
    "locations = [{\"x\": result[\"location\"][\"x\"], \"y\": result[\"location\"][\"y\"]} for result in results]\n",
    "\n",
    "# Add the x and y coordinates to the original DataFrame\n",
    "df[\"x\"] = [location[\"x\"] for location in locations]\n",
    "df[\"y\"] = [location[\"y\"] for location in locations]\n",
    "\n",
    "# Save the updated DataFrame as a new CSV file, REPLACE <PATH TO NEW CSV>\n",
    "df.to_csv(\"<PATH TO NEW CSV>\", index=False)"
   ]
  },
  {
   "cell_type": "markdown",
   "id": "32bcd7fe",
   "metadata": {},
   "source": [
    "#### Geocode by appending XY columns to source data:"
   ]
  },
  {
   "cell_type": "code",
   "execution_count": null,
   "id": "04453c36",
   "metadata": {},
   "outputs": [],
   "source": [
    "#Create variable for source data, REPLACE <PATH TO SOURCE>\n",
    "source= \"<PATH TO SOURCE>\"\n",
    "\n",
    "# Read in the CSV file as a pandas DataFrame (csv must not be locked/in use)\n",
    "df = pd.read_csv(source)\n",
    "\n",
    "# Create a list of dictionaries with address fields\n",
    "addresses = df.to_dict(\"records\")\n",
    "\n",
    "# Batch geocode the list of addresses\n",
    "results = batch_geocode(addresses)\n",
    "\n",
    "# Create a list of dictionaries with x and y coordinates\n",
    "locations = [{\"x\": result[\"location\"][\"x\"], \"y\": result[\"location\"][\"y\"]} for result in results]\n",
    "\n",
    "# Add the x and y coordinates to the original DataFrame\n",
    "for i, location in enumerate(locations):\n",
    "    df.at[i, \"x\"] = location[\"x\"]\n",
    "    df.at[i, \"y\"] = location[\"y\"]\n",
    "\n",
    "# Save the updated DataFrame to the original CSV file\n",
    "df.to_csv(source, index=False)"
   ]
  }
 ],
 "metadata": {
  "kernelspec": {
   "display_name": "Python 3 (ipykernel)",
   "language": "python",
   "name": "python3"
  },
  "language_info": {
   "codemirror_mode": {
    "name": "ipython",
    "version": 3
   },
   "file_extension": ".py",
   "mimetype": "text/x-python",
   "name": "python",
   "nbconvert_exporter": "python",
   "pygments_lexer": "ipython3",
   "version": "3.9.16"
  }
 },
 "nbformat": 4,
 "nbformat_minor": 5
}
