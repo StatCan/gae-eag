{
 "cells": [
  {
   "cell_type": "code",
   "execution_count": null,
   "id": "a4b65fc0",
   "metadata": {},
   "outputs": [],
   "source": [
    "from arcgis.gis import GIS"
   ]
  },
  {
   "cell_type": "code",
   "execution_count": null,
   "id": "890add0b",
   "metadata": {},
   "outputs": [],
   "source": [
    "#Replace <#######> with your App_ID/API KEY\n",
    "gis_source = GIS('https://geoanalytics.cloud.statcan.ca/portal/', client_id='<#######>', verify_cert=True)\n",
    "gis_destination = GIS('https://geoanalytics.cloud.statcan.ca/portal/', client_id='<#######>', verify_cert=True)\n",
    "\n",
    "print(\"Connection Success\")\n",
    "print(\"SOURCE ACCOUNT= \" + gis_source.properties.user.username)\n",
    "print(\"DESTINATION ACCOINT= \" + gis_destination.properties.user.username)"
   ]
  },
  {
   "cell_type": "code",
   "execution_count": null,
   "id": "9400ea23",
   "metadata": {},
   "outputs": [],
   "source": [
    "#Replace <#####> with the ItemID\n",
    "item = gis_source.content.get('<#######>')\n",
    "\n",
    "print (item.title + \"READY TO BE CLONED\")\n",
    "print (\"BEGIN CLONING\")\n",
    "\n",
    "cloned_items = gis_destination.content.clone_items(items=[item], copy_data=True)\n",
    "\n",
    "print(\"FINISHED CLONING\")"
   ]
  },
  {
   "cell_type": "code",
   "execution_count": null,
   "id": "ea6e289c",
   "metadata": {},
   "outputs": [],
   "source": []
  }
 ],
 "metadata": {
  "kernelspec": {
   "display_name": "Python 3 (ipykernel)",
   "language": "python",
   "name": "python3"
  },
  "language_info": {
   "codemirror_mode": {
    "name": "ipython",
    "version": 3
   },
   "file_extension": ".py",
   "mimetype": "text/x-python",
   "name": "python",
   "nbconvert_exporter": "python",
   "pygments_lexer": "ipython3",
   "version": "3.9.16"
  }
 },
 "nbformat": 4,
 "nbformat_minor": 5
}
