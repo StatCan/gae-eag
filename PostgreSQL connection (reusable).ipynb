{
 "cells": [
  {
   "cell_type": "markdown",
   "id": "ec60cf2c",
   "metadata": {
    "deletable": false,
    "editable": false
   },
   "source": [
    "### Let's Data Pull from a PostgreSQL Database\n",
    "\n",
    "We will use 2 packages to pull data from a DAS GAE PostgreSQL+PostGIS database into a notebook for further use.\n",
    "* __psycopg2__ - A popular PostgreSQL database adapter for the Python programming language\n",
    "    * We will use this to connect to, and select the data from a postgreSQL instance\n",
    "* __geopandas__- An open source project to make working with geospatial data in python easier\n",
    "    * We will use this to transform the data into a GeoDataframe\n",
    "\n",
    "### There are a few edits that you need to do, as marked."
   ]
  },
  {
   "cell_type": "code",
   "execution_count": null,
   "id": "908be40d",
   "metadata": {},
   "outputs": [],
   "source": [
    "#Cell 1; import required packages\n",
    "import psycopg2\n",
    "import geopandas as gpd"
   ]
  },
  {
   "cell_type": "markdown",
   "id": "fa187e03",
   "metadata": {},
   "source": [
    "### In Cell 2 EDIT Lines: 3, 4, 5, & 6\n",
    "\n",
    "* databaseURL\n",
    "* database\n",
    "* username\n",
    "* password\n",
    "\n",
    "_NOTE: See your DAS GAE Welcome-Onbaording email for the necessary info_"
   ]
  },
  {
   "cell_type": "code",
   "execution_count": null,
   "id": "795bd008",
   "metadata": {},
   "outputs": [],
   "source": [
    "#Cell 2; variables (edit as needed)\n",
    "\n",
    "databaseURL='geo-test-mulp-db.postgres.database.azure.com'\n",
    "database='geop'\n",
    "username='myUsername'\n",
    "password='mypassword'\n"
   ]
  },
  {
   "cell_type": "code",
   "execution_count": null,
   "id": "cdb5acd6",
   "metadata": {
    "deletable": false,
    "editable": false
   },
   "outputs": [],
   "source": [
    "#Cell 3- No EDITS needed\n",
    "#Connect Function\n",
    "\n",
    "connection=None\n",
    "cursor=None \n",
    "try:\n",
    "##open connection \n",
    "    connection=psycopg2.connect(\n",
    "        host= databaseURL,\n",
    "        dbname=database,\n",
    "        user=username,\n",
    "        password=password,\n",
    "        port=5432)\n",
    "    print ('OK! - connected as user:', username,)    \n",
    "##start cursor\n",
    "    cursor=connection.cursor()\n",
    "    print ('OK! - cursor opened')    \n",
    "#throw back connection errors (do not edit)\n",
    "except Exception as error:\n",
    "    print (error)"
   ]
  },
  {
   "cell_type": "markdown",
   "id": "0238fb71",
   "metadata": {},
   "source": [
    "### In cell 4 EDIT :\n",
    "Line 4\n",
    "\n",
    "* postgreSQL_select_Query\n",
    "    \n",
    "    \n",
    "    * SELECT __what__ FROM __schemaName__.__tableName__\n",
    "\n",
    "         *__what__ = column name(s) or use ' * ' to select all\n",
    "         <br>\n",
    "    * pay attention to the use and location of __'__ single_quotes __'__ and __\"__ double_quotes __\"__"
   ]
  },
  {
   "cell_type": "code",
   "execution_count": null,
   "id": "d9e3f4de",
   "metadata": {},
   "outputs": [],
   "source": [
    "#Cell 4; Select your data using a SQL command\n",
    "#edit as needed:\n",
    "\n",
    "postgreSQL_select_Query = 'select * from \"test\".\"persons\"'"
   ]
  },
  {
   "cell_type": "code",
   "execution_count": null,
   "id": "3be6c270",
   "metadata": {
    "deletable": false,
    "editable": false
   },
   "outputs": [],
   "source": [
    "#Cell 5; No EDITS needed!\n",
    "#Create dataframe from cursor\n",
    "cursor.execute(postgreSQL_select_Query)\n",
    "data = cursor.fetchall()\n",
    "print(\"OK!- selected data from:\", database, \"database\")\n",
    "\n",
    "cols=[]\n",
    "for etl in cursor.description:\n",
    "    cols.append(etl[0])   \n",
    "dataframe=gpd.GeoDataFrame(data=data, columns=cols)\n",
    "dataframe"
   ]
  },
  {
   "cell_type": "code",
   "execution_count": null,
   "id": "b5c8a948",
   "metadata": {},
   "outputs": [],
   "source": [
    "# Contuine analysis work here...\n"
   ]
  },
  {
   "cell_type": "code",
   "execution_count": null,
   "id": "c794d58d",
   "metadata": {
    "deletable": false,
    "editable": false
   },
   "outputs": [],
   "source": [
    "#close conections (No EDITS needed!)\n",
    "\n",
    "if cursor is not None:\n",
    "        cursor.close()\n",
    "        print ('cursor closed')\n",
    "if connection is not None:\n",
    "        connection.close()\n",
    "        print ('conection closed')\n",
    "print ('OK! - goodbye')"
   ]
  }
 ],
 "metadata": {
  "kernelspec": {
   "display_name": "Python 3 (ipykernel)",
   "language": "python",
   "name": "python3"
  },
  "language_info": {
   "codemirror_mode": {
    "name": "ipython",
    "version": 3
   },
   "file_extension": ".py",
   "mimetype": "text/x-python",
   "name": "python",
   "nbconvert_exporter": "python",
   "pygments_lexer": "ipython3",
   "version": "3.9.16"
  }
 },
 "nbformat": 4,
 "nbformat_minor": 5
}
