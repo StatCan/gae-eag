{
 "cells": [
  {
   "cell_type": "markdown",
   "id": "db8a1d6d",
   "metadata": {},
   "source": [
    "### Prep"
   ]
  },
  {
   "cell_type": "code",
   "execution_count": null,
   "id": "6efbf62d",
   "metadata": {},
   "outputs": [],
   "source": [
    "import arcgis\n",
    "from arcgis.gis import GIS\n",
    "import geopandas as gpd\n",
    "from arcgis.features import FeatureLayer, GeoAccessor\n",
    "import plotly.express as px"
   ]
  },
  {
   "cell_type": "markdown",
   "id": "56af3e6d",
   "metadata": {},
   "source": [
    "### Connect to Portal"
   ]
  },
  {
   "cell_type": "code",
   "execution_count": null,
   "id": "b14259a8",
   "metadata": {},
   "outputs": [],
   "source": [
    "#Replace <#####>\n",
    "gis = GIS(\"https://geoanalytics.cloud.statcan.ca/portal\", client_id='<#####>', verify=True)\n",
    "print(\"Logged in as: \" + gis.properties.user.username)"
   ]
  },
  {
   "cell_type": "markdown",
   "id": "bcc4aa08",
   "metadata": {},
   "source": [
    "### Search your Layers"
   ]
  },
  {
   "cell_type": "code",
   "execution_count": null,
   "id": "a51b78ce",
   "metadata": {},
   "outputs": [],
   "source": [
    "#Method 1\n",
    "me = gis.users.me\n",
    "my_items = me.items()\n",
    "for items in my_items:\n",
    "    print(items.title, \" | \", items.type, \" | \", items.id)\n",
    "\n",
    "#method 2 - replace <#####>    \n",
    "#items = gis.content.search(query=\"owner:<#####>\")\n",
    "#for item in items:\n",
    "#    print(item.title, \" | \", item.type, \" | \", item.id)"
   ]
  },
  {
   "cell_type": "markdown",
   "id": "f0571e12",
   "metadata": {},
   "source": [
    "### Retrieve Layer(s)"
   ]
  },
  {
   "cell_type": "code",
   "execution_count": null,
   "id": "f2cd92e1",
   "metadata": {},
   "outputs": [],
   "source": [
    "#Replace ####### with Item ID\n",
    "item = gis.content.get(\"############\")\n",
    "print (item.title, item.type, item.id, item.owner)\n",
    "layerA = item.layers[0]"
   ]
  },
  {
   "cell_type": "markdown",
   "id": "300d5dbf",
   "metadata": {},
   "source": [
    "### Map it using ArcGIS moduel "
   ]
  },
  {
   "cell_type": "code",
   "execution_count": null,
   "id": "f338703a",
   "metadata": {},
   "outputs": [],
   "source": [
    "m=gis.map()\n",
    "m.add_layer(layerA)\n",
    "m"
   ]
  },
  {
   "cell_type": "markdown",
   "id": "10b7b4ac",
   "metadata": {},
   "source": [
    "### Map it using Open Source"
   ]
  },
  {
   "cell_type": "markdown",
   "id": "4a1ef5d6",
   "metadata": {},
   "source": [
    "##### Convert"
   ]
  },
  {
   "cell_type": "code",
   "execution_count": null,
   "id": "3cef9eb9",
   "metadata": {},
   "outputs": [],
   "source": [
    "# Convert layer to a Spatial Dataframe\n",
    "sdf = layerA.query().sdf\n",
    "\n",
    "#Convert to GeoDatadtame \n",
    "gdf = GeoAccessor.from_xy(sdf, x_column='latitude', y_column='longitude')"
   ]
  },
  {
   "cell_type": "markdown",
   "id": "a4342fc4",
   "metadata": {},
   "source": [
    "###### Map It"
   ]
  },
  {
   "cell_type": "code",
   "execution_count": null,
   "id": "124ec490",
   "metadata": {},
   "outputs": [],
   "source": [
    "#Create Map\n",
    "map = px.scatter_mapbox(\n",
    "    gdf, \n",
    "    lat=\"latitude\", \n",
    "    lon=\"longitude\",\n",
    "    zoom=10\n",
    ")\n",
    "\n",
    "#Style Map\n",
    "map.update_layout(\n",
    "    mapbox_style=\"open-street-map\",\n",
    "    margin=dict(l=0, r=0, t=0, b=0)\n",
    ")\n",
    "\n",
    "#Display map\n",
    "map.show()"
   ]
  }
 ],
 "metadata": {
  "kernelspec": {
   "display_name": "Python 3 (ipykernel)",
   "language": "python",
   "name": "python3"
  },
  "language_info": {
   "codemirror_mode": {
    "name": "ipython",
    "version": 3
   },
   "file_extension": ".py",
   "mimetype": "text/x-python",
   "name": "python",
   "nbconvert_exporter": "python",
   "pygments_lexer": "ipython3",
   "version": "3.9.16"
  }
 },
 "nbformat": 4,
 "nbformat_minor": 5
}
